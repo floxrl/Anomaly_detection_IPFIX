{
 "cells": [
  {
   "cell_type": "code",
   "execution_count": 21,
   "metadata": {},
   "outputs": [],
   "source": [
    "import pandas as pd\n",
    "import numpy as np\n",
    "import seaborn as sns\n",
    "import matplotlib.pyplot as plt\n",
    "\n",
    "from sklearn.preprocessing import LabelEncoder, OneHotEncoder\n",
    "\n",
    "from sklearn import preprocessing\n",
    "\n",
    "from sklearn.metrics import roc_auc_score\n",
    "\n",
    "\n",
    "from sklearn.ensemble import IsolationForest\n",
    "from sklearn.preprocessing import StandardScaler\n",
    "\n",
    "pd.set_option('display.max_columns', None)\n"
   ]
  },
  {
   "cell_type": "markdown",
   "metadata": {},
   "source": [
    "# Dataset"
   ]
  },
  {
   "cell_type": "code",
   "execution_count": 22,
   "metadata": {},
   "outputs": [
    {
     "name": "stdout",
     "output_type": "stream",
     "text": [
      "Dimensions of the Test set: (1623118, 14)\n"
     ]
    }
   ],
   "source": [
    "dataset = \"/home/flo/Documents/projet/k8s-security-module/05__data netflow/dataset/NetFlow v1 Datasets/NetFlow v1 Datasets/NF-UNSW-NB15.csv\"\n",
    "df = pd.read_csv(dataset)\n",
    "print('Dimensions of the Test set:',df.shape)"
   ]
  },
  {
   "cell_type": "code",
   "execution_count": 23,
   "metadata": {},
   "outputs": [
    {
     "data": {
      "text/plain": [
       "IPV4_SRC_ADDR                  object\n",
       "L4_SRC_PORT                     int64\n",
       "IPV4_DST_ADDR                  object\n",
       "L4_DST_PORT                     int64\n",
       "PROTOCOL                        int64\n",
       "L7_PROTO                      float64\n",
       "IN_BYTES                        int64\n",
       "OUT_BYTES                       int64\n",
       "IN_PKTS                         int64\n",
       "OUT_PKTS                        int64\n",
       "TCP_FLAGS                       int64\n",
       "FLOW_DURATION_MILLISECONDS      int64\n",
       "Label                           int64\n",
       "Attack                         object\n",
       "dtype: object"
      ]
     },
     "execution_count": 23,
     "metadata": {},
     "output_type": "execute_result"
    }
   ],
   "source": [
    "df.dtypes"
   ]
  },
  {
   "cell_type": "code",
   "execution_count": 24,
   "metadata": {},
   "outputs": [],
   "source": [
    "# All cols in the dataset\n",
    "cols = ['IPV4_SRC_ADDR','L4_SRC_PORT','IPV4_DST_ADDR','L4_DST_PORT','PROTOCOL','L7_PROTO','IN_BYTES', 'OUT_BYTES','IN_PKTS','OUT_PKTS','TCP_FLAGS','FLOW_DURATION_MILLISECONDS','Label','Attack']\n",
    "\n",
    "# Selected cols \n",
    "selected_cols = ['L4_SRC_PORT','L4_DST_PORT','PROTOCOL','L7_PROTO','IN_BYTES', 'OUT_BYTES','IN_PKTS','OUT_PKTS','FLOW_DURATION_MILLISECONDS']"
   ]
  },
  {
   "cell_type": "code",
   "execution_count": 25,
   "metadata": {},
   "outputs": [],
   "source": [
    "data = df[selected_cols].copy() \n",
    "data = data[:50000]\n",
    "show_df = df[:50000]"
   ]
  },
  {
   "cell_type": "code",
   "execution_count": 26,
   "metadata": {},
   "outputs": [],
   "source": [
    "#Split IP adress\n",
    "data[['IPV4_SRC_ADDR1', 'IPV4_SRC_ADDR2','IPV4_SRC_ADDR3', 'IPV4_SRC_ADDR4']] = df.IPV4_SRC_ADDR.str.split(\".\", expand = True)\n",
    "data[['IPV4_DST_ADDR1', 'IPV4_DST_ADDR2','IPV4_DST_ADDR3', 'IPV4_DST_ADDR4']] = df.IPV4_DST_ADDR.str.split(\".\", expand = True)\n"
   ]
  },
  {
   "cell_type": "code",
   "execution_count": 27,
   "metadata": {},
   "outputs": [],
   "source": [
    "# hash ip adress\n",
    "hashencod = ['L4_SRC_PORT','L4_DST_PORT']\n",
    "for h in hashencod:\n",
    "    data[h] = pd.util.hash_pandas_object(data[h])%100"
   ]
  },
  {
   "cell_type": "code",
   "execution_count": 28,
   "metadata": {},
   "outputs": [],
   "source": [
    "# Label encod\n",
    "cols_labelencod = ['PROTOCOL','L7_PROTO','IN_PKTS','OUT_PKTS']\n",
    "\n",
    "for x in cols_labelencod:\n",
    "    labelencoder= LabelEncoder()\n",
    "    data[x] = labelencoder.fit_transform(data[x])\n",
    "\n"
   ]
  },
  {
   "cell_type": "code",
   "execution_count": 29,
   "metadata": {},
   "outputs": [],
   "source": [
    "# split cols\n",
    "data_encod = pd.get_dummies(data, columns=['L4_SRC_PORT','L4_DST_PORT','PROTOCOL','L7_PROTO','IN_PKTS','OUT_PKTS'])"
   ]
  },
  {
   "cell_type": "code",
   "execution_count": 30,
   "metadata": {},
   "outputs": [
    {
     "data": {
      "text/plain": [
       "IN_BYTES                       int64\n",
       "OUT_BYTES                      int64\n",
       "FLOW_DURATION_MILLISECONDS     int64\n",
       "IPV4_SRC_ADDR1                object\n",
       "IPV4_SRC_ADDR2                object\n",
       "                               ...  \n",
       "OUT_PKTS_144                   uint8\n",
       "OUT_PKTS_145                   uint8\n",
       "OUT_PKTS_146                   uint8\n",
       "OUT_PKTS_147                   uint8\n",
       "OUT_PKTS_148                   uint8\n",
       "Length: 944, dtype: object"
      ]
     },
     "execution_count": 30,
     "metadata": {},
     "output_type": "execute_result"
    }
   ],
   "source": [
    "data_encod.dtypes"
   ]
  },
  {
   "cell_type": "markdown",
   "metadata": {},
   "source": [
    "# IsolationForest"
   ]
  },
  {
   "cell_type": "code",
   "execution_count": 31,
   "metadata": {},
   "outputs": [
    {
     "name": "stderr",
     "output_type": "stream",
     "text": [
      "/usr/local/lib/python3.9/dist-packages/sklearn/base.py:450: UserWarning: X does not have valid feature names, but IsolationForest was fitted with feature names\n",
      "  warnings.warn(\n"
     ]
    },
    {
     "data": {
      "text/html": [
       "<style>#sk-container-id-2 {color: black;background-color: white;}#sk-container-id-2 pre{padding: 0;}#sk-container-id-2 div.sk-toggleable {background-color: white;}#sk-container-id-2 label.sk-toggleable__label {cursor: pointer;display: block;width: 100%;margin-bottom: 0;padding: 0.3em;box-sizing: border-box;text-align: center;}#sk-container-id-2 label.sk-toggleable__label-arrow:before {content: \"▸\";float: left;margin-right: 0.25em;color: #696969;}#sk-container-id-2 label.sk-toggleable__label-arrow:hover:before {color: black;}#sk-container-id-2 div.sk-estimator:hover label.sk-toggleable__label-arrow:before {color: black;}#sk-container-id-2 div.sk-toggleable__content {max-height: 0;max-width: 0;overflow: hidden;text-align: left;background-color: #f0f8ff;}#sk-container-id-2 div.sk-toggleable__content pre {margin: 0.2em;color: black;border-radius: 0.25em;background-color: #f0f8ff;}#sk-container-id-2 input.sk-toggleable__control:checked~div.sk-toggleable__content {max-height: 200px;max-width: 100%;overflow: auto;}#sk-container-id-2 input.sk-toggleable__control:checked~label.sk-toggleable__label-arrow:before {content: \"▾\";}#sk-container-id-2 div.sk-estimator input.sk-toggleable__control:checked~label.sk-toggleable__label {background-color: #d4ebff;}#sk-container-id-2 div.sk-label input.sk-toggleable__control:checked~label.sk-toggleable__label {background-color: #d4ebff;}#sk-container-id-2 input.sk-hidden--visually {border: 0;clip: rect(1px 1px 1px 1px);clip: rect(1px, 1px, 1px, 1px);height: 1px;margin: -1px;overflow: hidden;padding: 0;position: absolute;width: 1px;}#sk-container-id-2 div.sk-estimator {font-family: monospace;background-color: #f0f8ff;border: 1px dotted black;border-radius: 0.25em;box-sizing: border-box;margin-bottom: 0.5em;}#sk-container-id-2 div.sk-estimator:hover {background-color: #d4ebff;}#sk-container-id-2 div.sk-parallel-item::after {content: \"\";width: 100%;border-bottom: 1px solid gray;flex-grow: 1;}#sk-container-id-2 div.sk-label:hover label.sk-toggleable__label {background-color: #d4ebff;}#sk-container-id-2 div.sk-serial::before {content: \"\";position: absolute;border-left: 1px solid gray;box-sizing: border-box;top: 0;bottom: 0;left: 50%;z-index: 0;}#sk-container-id-2 div.sk-serial {display: flex;flex-direction: column;align-items: center;background-color: white;padding-right: 0.2em;padding-left: 0.2em;position: relative;}#sk-container-id-2 div.sk-item {position: relative;z-index: 1;}#sk-container-id-2 div.sk-parallel {display: flex;align-items: stretch;justify-content: center;background-color: white;position: relative;}#sk-container-id-2 div.sk-item::before, #sk-container-id-2 div.sk-parallel-item::before {content: \"\";position: absolute;border-left: 1px solid gray;box-sizing: border-box;top: 0;bottom: 0;left: 50%;z-index: -1;}#sk-container-id-2 div.sk-parallel-item {display: flex;flex-direction: column;z-index: 1;position: relative;background-color: white;}#sk-container-id-2 div.sk-parallel-item:first-child::after {align-self: flex-end;width: 50%;}#sk-container-id-2 div.sk-parallel-item:last-child::after {align-self: flex-start;width: 50%;}#sk-container-id-2 div.sk-parallel-item:only-child::after {width: 0;}#sk-container-id-2 div.sk-dashed-wrapped {border: 1px dashed gray;margin: 0 0.4em 0.5em 0.4em;box-sizing: border-box;padding-bottom: 0.4em;background-color: white;}#sk-container-id-2 div.sk-label label {font-family: monospace;font-weight: bold;display: inline-block;line-height: 1.2em;}#sk-container-id-2 div.sk-label-container {text-align: center;}#sk-container-id-2 div.sk-container {/* jupyter's `normalize.less` sets `[hidden] { display: none; }` but bootstrap.min.css set `[hidden] { display: none !important; }` so we also need the `!important` here to be able to override the default hidden behavior on the sphinx rendered scikit-learn.org. See: https://github.com/scikit-learn/scikit-learn/issues/21755 */display: inline-block !important;position: relative;}#sk-container-id-2 div.sk-text-repr-fallback {display: none;}</style><div id=\"sk-container-id-2\" class=\"sk-top-container\"><div class=\"sk-text-repr-fallback\"><pre>IsolationForest(contamination=0.086, max_samples=13, n_estimators=1750,\n",
       "                n_jobs=-1)</pre><b>In a Jupyter environment, please rerun this cell to show the HTML representation or trust the notebook. <br />On GitHub, the HTML representation is unable to render, please try loading this page with nbviewer.org.</b></div><div class=\"sk-container\" hidden><div class=\"sk-item\"><div class=\"sk-estimator sk-toggleable\"><input class=\"sk-toggleable__control sk-hidden--visually\" id=\"sk-estimator-id-2\" type=\"checkbox\" checked><label for=\"sk-estimator-id-2\" class=\"sk-toggleable__label sk-toggleable__label-arrow\">IsolationForest</label><div class=\"sk-toggleable__content\"><pre>IsolationForest(contamination=0.086, max_samples=13, n_estimators=1750,\n",
       "                n_jobs=-1)</pre></div></div></div></div></div>"
      ],
      "text/plain": [
       "IsolationForest(contamination=0.086, max_samples=13, n_estimators=1750,\n",
       "                n_jobs=-1)"
      ]
     },
     "execution_count": 31,
     "metadata": {},
     "output_type": "execute_result"
    }
   ],
   "source": [
    "iForest = IsolationForest(n_estimators=1750, max_samples=13, contamination=0.086, n_jobs=-1)\n",
    "iForest.fit(data_encod)\n",
    "\n"
   ]
  },
  {
   "cell_type": "markdown",
   "metadata": {},
   "source": [
    "# Finding anomalies dataset"
   ]
  },
  {
   "cell_type": "code",
   "execution_count": 32,
   "metadata": {},
   "outputs": [],
   "source": [
    "scores = iForest.decision_function(data_encod)"
   ]
  },
  {
   "cell_type": "code",
   "execution_count": 33,
   "metadata": {},
   "outputs": [
    {
     "data": {
      "text/plain": [
       "(array([6.000e+00, 2.000e+00, 0.000e+00, 6.000e+00, 2.000e+00, 1.700e+01,\n",
       "        1.380e+02, 3.090e+02, 1.000e+02, 4.000e+01, 1.120e+02, 1.161e+03,\n",
       "        6.130e+02, 1.170e+02, 1.620e+02, 1.990e+02, 3.500e+02, 4.030e+02,\n",
       "        3.540e+02, 3.510e+02, 3.310e+02, 2.680e+02, 2.250e+02, 2.230e+02,\n",
       "        7.310e+02, 2.279e+03, 4.291e+03, 4.122e+03, 2.699e+03, 1.368e+03,\n",
       "        1.613e+03, 1.407e+03, 1.176e+03, 1.524e+03, 2.184e+03, 2.441e+03,\n",
       "        2.213e+03, 1.984e+03, 2.564e+03, 3.030e+03, 2.866e+03, 2.198e+03,\n",
       "        1.651e+03, 1.110e+03, 6.370e+02, 2.800e+02, 9.700e+01, 3.500e+01,\n",
       "        9.000e+00, 2.000e+00]),\n",
       " array([-0.03620907, -0.03436145, -0.03251382, -0.0306662 , -0.02881858,\n",
       "        -0.02697096, -0.02512334, -0.02327571, -0.02142809, -0.01958047,\n",
       "        -0.01773285, -0.01588523, -0.0140376 , -0.01218998, -0.01034236,\n",
       "        -0.00849474, -0.00664712, -0.00479949, -0.00295187, -0.00110425,\n",
       "         0.00074337,  0.00259099,  0.00443862,  0.00628624,  0.00813386,\n",
       "         0.00998148,  0.0118291 ,  0.01367673,  0.01552435,  0.01737197,\n",
       "         0.01921959,  0.02106721,  0.02291484,  0.02476246,  0.02661008,\n",
       "         0.0284577 ,  0.03030532,  0.03215295,  0.03400057,  0.03584819,\n",
       "         0.03769581,  0.03954343,  0.04139106,  0.04323868,  0.0450863 ,\n",
       "         0.04693392,  0.04878154,  0.05062917,  0.05247679,  0.05432441,\n",
       "         0.05617203]),\n",
       " <BarContainer object of 50 artists>)"
      ]
     },
     "execution_count": 33,
     "metadata": {},
     "output_type": "execute_result"
    },
    {
     "data": {
      "image/png": "[encoded data removed]",
      "text/plain": [
       "<Figure size 800x400 with 1 Axes>"
      ]
     },
     "metadata": {},
     "output_type": "display_data"
    }
   ],
   "source": [
    "plt.figure(figsize=(8, 4))\n",
    "plt.hist(scores, bins=50)"
   ]
  },
  {
   "cell_type": "code",
   "execution_count": 34,
   "metadata": {},
   "outputs": [
    {
     "name": "stderr",
     "output_type": "stream",
     "text": [
      "/tmp/ipykernel_848248/1321330837.py:1: SettingWithCopyWarning: \n",
      "A value is trying to be set on a copy of a slice from a DataFrame.\n",
      "Try using .loc[row_indexer,col_indexer] = value instead\n",
      "\n",
      "See the caveats in the documentation: https://pandas.pydata.org/pandas-docs/stable/user_guide/indexing.html#returning-a-view-versus-a-copy\n",
      "  show_df['scores']=scores\n",
      "/tmp/ipykernel_848248/1321330837.py:2: SettingWithCopyWarning: \n",
      "A value is trying to be set on a copy of a slice from a DataFrame.\n",
      "Try using .loc[row_indexer,col_indexer] = value instead\n",
      "\n",
      "See the caveats in the documentation: https://pandas.pydata.org/pandas-docs/stable/user_guide/indexing.html#returning-a-view-versus-a-copy\n",
      "  show_df['anomaly']=iForest.predict(data_encod)\n"
     ]
    },
    {
     "data": {
      "text/html": [
       "<div>\n",
       "<style scoped>\n",
       "    .dataframe tbody tr th:only-of-type {\n",
       "        vertical-align: middle;\n",
       "    }\n",
       "\n",
       "    .dataframe tbody tr th {\n",
       "        vertical-align: top;\n",
       "    }\n",
       "\n",
       "    .dataframe thead th {\n",
       "        text-align: right;\n",
       "    }\n",
       "</style>\n",
       "<table border=\"1\" class=\"dataframe\">\n",
       "  <thead>\n",
       "    <tr style=\"text-align: right;\">\n",
       "      <th></th>\n",
       "      <th>IPV4_SRC_ADDR</th>\n",
       "      <th>L4_SRC_PORT</th>\n",
       "      <th>IPV4_DST_ADDR</th>\n",
       "      <th>L4_DST_PORT</th>\n",
       "      <th>PROTOCOL</th>\n",
       "      <th>L7_PROTO</th>\n",
       "      <th>IN_BYTES</th>\n",
       "      <th>OUT_BYTES</th>\n",
       "      <th>IN_PKTS</th>\n",
       "      <th>OUT_PKTS</th>\n",
       "      <th>TCP_FLAGS</th>\n",
       "      <th>FLOW_DURATION_MILLISECONDS</th>\n",
       "      <th>Label</th>\n",
       "      <th>Attack</th>\n",
       "      <th>scores</th>\n",
       "      <th>anomaly</th>\n",
       "    </tr>\n",
       "  </thead>\n",
       "  <tbody>\n",
       "    <tr>\n",
       "      <th>0</th>\n",
       "      <td>149.171.126.0</td>\n",
       "      <td>62073</td>\n",
       "      <td>59.166.0.5</td>\n",
       "      <td>56082</td>\n",
       "      <td>6</td>\n",
       "      <td>0.0</td>\n",
       "      <td>9672</td>\n",
       "      <td>416</td>\n",
       "      <td>11</td>\n",
       "      <td>8</td>\n",
       "      <td>25</td>\n",
       "      <td>15</td>\n",
       "      <td>0</td>\n",
       "      <td>Benign</td>\n",
       "      <td>0.020738</td>\n",
       "      <td>1</td>\n",
       "    </tr>\n",
       "    <tr>\n",
       "      <th>1</th>\n",
       "      <td>149.171.126.2</td>\n",
       "      <td>32284</td>\n",
       "      <td>59.166.0.5</td>\n",
       "      <td>1526</td>\n",
       "      <td>6</td>\n",
       "      <td>0.0</td>\n",
       "      <td>1776</td>\n",
       "      <td>104</td>\n",
       "      <td>6</td>\n",
       "      <td>2</td>\n",
       "      <td>25</td>\n",
       "      <td>0</td>\n",
       "      <td>0</td>\n",
       "      <td>Benign</td>\n",
       "      <td>0.020007</td>\n",
       "      <td>1</td>\n",
       "    </tr>\n",
       "    <tr>\n",
       "      <th>2</th>\n",
       "      <td>149.171.126.0</td>\n",
       "      <td>21</td>\n",
       "      <td>59.166.0.1</td>\n",
       "      <td>21971</td>\n",
       "      <td>6</td>\n",
       "      <td>1.0</td>\n",
       "      <td>1842</td>\n",
       "      <td>1236</td>\n",
       "      <td>26</td>\n",
       "      <td>22</td>\n",
       "      <td>25</td>\n",
       "      <td>1111</td>\n",
       "      <td>0</td>\n",
       "      <td>Benign</td>\n",
       "      <td>0.028976</td>\n",
       "      <td>1</td>\n",
       "    </tr>\n",
       "    <tr>\n",
       "      <th>3</th>\n",
       "      <td>59.166.0.1</td>\n",
       "      <td>23800</td>\n",
       "      <td>149.171.126.0</td>\n",
       "      <td>46893</td>\n",
       "      <td>6</td>\n",
       "      <td>0.0</td>\n",
       "      <td>528</td>\n",
       "      <td>8824</td>\n",
       "      <td>10</td>\n",
       "      <td>12</td>\n",
       "      <td>27</td>\n",
       "      <td>124</td>\n",
       "      <td>0</td>\n",
       "      <td>Benign</td>\n",
       "      <td>0.029484</td>\n",
       "      <td>1</td>\n",
       "    </tr>\n",
       "    <tr>\n",
       "      <th>4</th>\n",
       "      <td>59.166.0.5</td>\n",
       "      <td>63062</td>\n",
       "      <td>149.171.126.2</td>\n",
       "      <td>21</td>\n",
       "      <td>6</td>\n",
       "      <td>1.0</td>\n",
       "      <td>1786</td>\n",
       "      <td>2340</td>\n",
       "      <td>32</td>\n",
       "      <td>34</td>\n",
       "      <td>25</td>\n",
       "      <td>1459</td>\n",
       "      <td>0</td>\n",
       "      <td>Benign</td>\n",
       "      <td>0.046250</td>\n",
       "      <td>1</td>\n",
       "    </tr>\n",
       "  </tbody>\n",
       "</table>\n",
       "</div>"
      ],
      "text/plain": [
       "   IPV4_SRC_ADDR  L4_SRC_PORT  IPV4_DST_ADDR  L4_DST_PORT  PROTOCOL  L7_PROTO  \\\n",
       "0  149.171.126.0        62073     59.166.0.5        56082         6       0.0   \n",
       "1  149.171.126.2        32284     59.166.0.5         1526         6       0.0   \n",
       "2  149.171.126.0           21     59.166.0.1        21971         6       1.0   \n",
       "3     59.166.0.1        23800  149.171.126.0        46893         6       0.0   \n",
       "4     59.166.0.5        63062  149.171.126.2           21         6       1.0   \n",
       "\n",
       "   IN_BYTES  OUT_BYTES  IN_PKTS  OUT_PKTS  TCP_FLAGS  \\\n",
       "0      9672        416       11         8         25   \n",
       "1      1776        104        6         2         25   \n",
       "2      1842       1236       26        22         25   \n",
       "3       528       8824       10        12         27   \n",
       "4      1786       2340       32        34         25   \n",
       "\n",
       "   FLOW_DURATION_MILLISECONDS  Label  Attack    scores  anomaly  \n",
       "0                          15      0  Benign  0.020738        1  \n",
       "1                           0      0  Benign  0.020007        1  \n",
       "2                        1111      0  Benign  0.028976        1  \n",
       "3                         124      0  Benign  0.029484        1  \n",
       "4                        1459      0  Benign  0.046250        1  "
      ]
     },
     "execution_count": 34,
     "metadata": {},
     "output_type": "execute_result"
    }
   ],
   "source": [
    "show_df['scores']=scores\n",
    "show_df['anomaly']=iForest.predict(data_encod)\n",
    "show_df.head(5)"
   ]
  },
  {
   "cell_type": "code",
   "execution_count": 35,
   "metadata": {},
   "outputs": [
    {
     "data": {
      "text/plain": [
       "(45749, 16)"
      ]
     },
     "execution_count": 35,
     "metadata": {},
     "output_type": "execute_result"
    }
   ],
   "source": [
    "# Total BENIGN in dataset\n",
    "df_benign = show_df[show_df['Label']==0]\n",
    "df_benign.shape"
   ]
  },
  {
   "cell_type": "code",
   "execution_count": 36,
   "metadata": {},
   "outputs": [
    {
     "data": {
      "text/plain": [
       "(4251, 16)"
      ]
     },
     "execution_count": 36,
     "metadata": {},
     "output_type": "execute_result"
    }
   ],
   "source": [
    "# Total ATTACK in dataset\n",
    "df_attack = show_df[show_df['Label']==1]\n",
    "df_attack.shape"
   ]
  },
  {
   "cell_type": "code",
   "execution_count": 37,
   "metadata": {},
   "outputs": [
    {
     "data": {
      "text/plain": [
       "(4300, 16)"
      ]
     },
     "execution_count": 37,
     "metadata": {},
     "output_type": "execute_result"
    }
   ],
   "source": [
    "#dataset anomaly\n",
    "df_anomly = show_df[show_df['anomaly']==-1]\n",
    "df_anomly.shape"
   ]
  },
  {
   "cell_type": "code",
   "execution_count": 38,
   "metadata": {},
   "outputs": [
    {
     "data": {
      "text/plain": [
       "(649, 16)"
      ]
     },
     "execution_count": 38,
     "metadata": {},
     "output_type": "execute_result"
    }
   ],
   "source": [
    "# BENIGN in anomaly\n",
    "df_anomaly_benign =  df_anomly[df_anomly['Label']==0]\n",
    "df_anomaly_benign.shape"
   ]
  },
  {
   "cell_type": "code",
   "execution_count": 39,
   "metadata": {},
   "outputs": [
    {
     "data": {
      "text/plain": [
       "(3651, 16)"
      ]
     },
     "execution_count": 39,
     "metadata": {},
     "output_type": "execute_result"
    }
   ],
   "source": [
    "# ATTACK in anomaly\n",
    "df_anomly_attack =  df_anomly[df_anomly['Label']==1]\n",
    "df_anomly_attack.shape"
   ]
  },
  {
   "cell_type": "code",
   "execution_count": 40,
   "metadata": {},
   "outputs": [
    {
     "data": {
      "text/plain": [
       "(600, 16)"
      ]
     },
     "execution_count": 40,
     "metadata": {},
     "output_type": "execute_result"
    }
   ],
   "source": [
    "# undetected attacks\n",
    "df_healthy = show_df[show_df['anomaly']==1]\n",
    "df_true_negative = df_healthy[df_healthy['Label']==1]\n",
    "df_true_negative.shape"
   ]
  }
 ],
 "metadata": {
  "kernelspec": {
   "display_name": "Python 3.9.2 64-bit",
   "language": "python",
   "name": "python3"
  },
  "language_info": {
   "codemirror_mode": {
    "name": "ipython",
    "version": 3
   },
   "file_extension": ".py",
   "mimetype": "text/x-python",
   "name": "python",
   "nbconvert_exporter": "python",
   "pygments_lexer": "ipython3",
   "version": "3.9.2"
  },
  "orig_nbformat": 4,
  "vscode": {
   "interpreter": {
    "hash": "916dbcbb3f70747c44a77c7bcd40155683ae19c65e1c03b4aa3499c5328201f1"
   }
  }
 },
 "nbformat": 4,
 "nbformat_minor": 2
}
