{
 "cells": [
  {
   "cell_type": "code",
   "execution_count": 37,
   "metadata": {},
   "outputs": [],
   "source": [
    "import numpy as np\n",
    "import pandas as pd\n",
    "from sklearn.model_selection import train_test_split\n",
    "\n",
    "from sklearn.pipeline import Pipeline\n",
    "from sklearn import linear_model\n",
    "import matplotlib.pyplot as plt\n",
    "\n",
    "from sklearn.preprocessing import LabelEncoder, OneHotEncoder\n",
    "le = LabelEncoder()\n",
    "\n",
    "from sklearn.preprocessing import StandardScaler\n",
    "sc = StandardScaler()\n",
    "\n",
    "import keras\n",
    "from keras.models import Sequential\n",
    "from keras.layers import Dense\n",
    "from keras.layers import Dropout"
   ]
  },
  {
   "cell_type": "code",
   "execution_count": 38,
   "metadata": {},
   "outputs": [
    {
     "name": "stdout",
     "output_type": "stream",
     "text": [
      "Dimensions of the Test set: (1623118, 14)\n"
     ]
    }
   ],
   "source": [
    "dataset = \"/home/flo/Documents/projet/k8s-security-module/05__data netflow/dataset/NetFlow v1 Datasets/NetFlow v1 Datasets/NF-UNSW-NB15.csv\"\n",
    "df = pd.read_csv(dataset)\n",
    "print('Dimensions of the Test set:',df.shape)"
   ]
  },
  {
   "cell_type": "code",
   "execution_count": 39,
   "metadata": {},
   "outputs": [
    {
     "data": {
      "text/plain": [
       "IPV4_SRC_ADDR                  object\n",
       "L4_SRC_PORT                     int64\n",
       "IPV4_DST_ADDR                  object\n",
       "L4_DST_PORT                     int64\n",
       "PROTOCOL                        int64\n",
       "L7_PROTO                      float64\n",
       "IN_BYTES                        int64\n",
       "OUT_BYTES                       int64\n",
       "IN_PKTS                         int64\n",
       "OUT_PKTS                        int64\n",
       "TCP_FLAGS                       int64\n",
       "FLOW_DURATION_MILLISECONDS      int64\n",
       "Label                           int64\n",
       "Attack                         object\n",
       "dtype: object"
      ]
     },
     "execution_count": 39,
     "metadata": {},
     "output_type": "execute_result"
    }
   ],
   "source": [
    "df.dtypes"
   ]
  },
  {
   "cell_type": "code",
   "execution_count": 40,
   "metadata": {},
   "outputs": [],
   "source": [
    "# All cols in the dataset\n",
    "cols = ['IPV4_SRC_ADDR','L4_SRC_PORT','IPV4_DST_ADDR','L4_DST_PORT','PROTOCOL','L7_PROTO','IN_BYTES', 'OUT_BYTES','IN_PKTS','OUT_PKTS','TCP_FLAGS','FLOW_DURATION_MILLISECONDS','Label','Attack']\n",
    "\n",
    "# Selected cols \n",
    "selected_cols = ['L4_SRC_PORT','L4_DST_PORT','PROTOCOL','L7_PROTO','IN_BYTES', 'OUT_BYTES','IN_PKTS','OUT_PKTS','FLOW_DURATION_MILLISECONDS']\n",
    "\n",
    "Y_cols = ['Label']"
   ]
  },
  {
   "cell_type": "code",
   "execution_count": 41,
   "metadata": {},
   "outputs": [],
   "source": [
    "X_data = df[selected_cols].copy() \n",
    "X_data = X_data[:70000]\n",
    "\n",
    "Y_data = df[Y_cols].copy() \n",
    "Y_data = Y_data[:70000]\n"
   ]
  },
  {
   "cell_type": "code",
   "execution_count": 42,
   "metadata": {},
   "outputs": [],
   "source": [
    "X = X_data[['L4_SRC_PORT','L4_DST_PORT','PROTOCOL','L7_PROTO','IN_BYTES', 'OUT_BYTES','IN_PKTS','OUT_PKTS','FLOW_DURATION_MILLISECONDS']]\n",
    "y = Y_data[['Label']]\n",
    "a = y"
   ]
  },
  {
   "cell_type": "code",
   "execution_count": 43,
   "metadata": {},
   "outputs": [],
   "source": [
    "#Split IP adress\n",
    "X[['IPV4_SRC_ADDR1', 'IPV4_SRC_ADDR2','IPV4_SRC_ADDR3', 'IPV4_SRC_ADDR4']] = df.IPV4_SRC_ADDR.str.split(\".\", expand = True)\n",
    "X[['IPV4_DST_ADDR1', 'IPV4_DST_ADDR2','IPV4_DST_ADDR3', 'IPV4_DST_ADDR4']] = df.IPV4_DST_ADDR.str.split(\".\", expand = True)\n"
   ]
  },
  {
   "cell_type": "code",
   "execution_count": 44,
   "metadata": {},
   "outputs": [],
   "source": [
    "# hash ip adress\n",
    "hashencod = ['L4_SRC_PORT','L4_DST_PORT']\n",
    "for h in hashencod:\n",
    "    X[h] = pd.util.hash_pandas_object(X[h])%100"
   ]
  },
  {
   "cell_type": "code",
   "execution_count": 45,
   "metadata": {},
   "outputs": [],
   "source": [
    "# Label encod\n",
    "cols_labelencod = ['PROTOCOL','L7_PROTO','IN_PKTS','OUT_PKTS']\n",
    "\n",
    "for x in cols_labelencod:\n",
    "    labelencoder= LabelEncoder()\n",
    "    X[x] = labelencoder.fit_transform(X[x])\n"
   ]
  },
  {
   "cell_type": "code",
   "execution_count": 46,
   "metadata": {},
   "outputs": [],
   "source": [
    "# split cols\n",
    "X = pd.get_dummies(X, columns=['L4_SRC_PORT','L4_DST_PORT','PROTOCOL','L7_PROTO','IN_PKTS','OUT_PKTS'])"
   ]
  },
  {
   "cell_type": "code",
   "execution_count": 47,
   "metadata": {},
   "outputs": [
    {
     "data": {
      "text/plain": [
       "((56000, 1036), (14000, 1036), (56000, 1), (14000, 1))"
      ]
     },
     "execution_count": 47,
     "metadata": {},
     "output_type": "execute_result"
    }
   ],
   "source": [
    "from sklearn.model_selection import train_test_split\n",
    "X_train,X_test,y_train,y_test = train_test_split(X, y,test_size=0.2,random_state=0)\n",
    "\n",
    "X_train.shape,X_test.shape , y_train.shape ,y_test.shape"
   ]
  },
  {
   "cell_type": "code",
   "execution_count": 48,
   "metadata": {},
   "outputs": [
    {
     "data": {
      "text/plain": [
       "IN_BYTES                       int64\n",
       "OUT_BYTES                      int64\n",
       "FLOW_DURATION_MILLISECONDS     int64\n",
       "IPV4_SRC_ADDR1                object\n",
       "IPV4_SRC_ADDR2                object\n",
       "                               ...  \n",
       "OUT_PKTS_178                   uint8\n",
       "OUT_PKTS_179                   uint8\n",
       "OUT_PKTS_180                   uint8\n",
       "OUT_PKTS_181                   uint8\n",
       "OUT_PKTS_182                   uint8\n",
       "Length: 1036, dtype: object"
      ]
     },
     "execution_count": 48,
     "metadata": {},
     "output_type": "execute_result"
    }
   ],
   "source": [
    "X_train.dtypes"
   ]
  },
  {
   "cell_type": "code",
   "execution_count": 49,
   "metadata": {},
   "outputs": [
    {
     "name": "stderr",
     "output_type": "stream",
     "text": [
      "/tmp/ipykernel_836666/724880042.py:1: DeprecationWarning: `np.int` is a deprecated alias for the builtin `int`. To silence this warning, use `int` by itself. Doing this will not modify any behavior and is safe. When replacing `np.int`, you may wish to use e.g. `np.int64` or `np.int32` to specify the precision. If you wish to review your current use, check the release note link for additional information.\n",
      "Deprecated in NumPy 1.20; for more details and guidance: https://numpy.org/devdocs/release/1.20.0-notes.html#deprecations\n",
      "  X_train=np.asarray(X_train).astype(np.int)\n",
      "/tmp/ipykernel_836666/724880042.py:2: DeprecationWarning: `np.int` is a deprecated alias for the builtin `int`. To silence this warning, use `int` by itself. Doing this will not modify any behavior and is safe. When replacing `np.int`, you may wish to use e.g. `np.int64` or `np.int32` to specify the precision. If you wish to review your current use, check the release note link for additional information.\n",
      "Deprecated in NumPy 1.20; for more details and guidance: https://numpy.org/devdocs/release/1.20.0-notes.html#deprecations\n",
      "  y_train=np.asarray(y_train).astype(np.int)\n",
      "/tmp/ipykernel_836666/724880042.py:4: DeprecationWarning: `np.int` is a deprecated alias for the builtin `int`. To silence this warning, use `int` by itself. Doing this will not modify any behavior and is safe. When replacing `np.int`, you may wish to use e.g. `np.int64` or `np.int32` to specify the precision. If you wish to review your current use, check the release note link for additional information.\n",
      "Deprecated in NumPy 1.20; for more details and guidance: https://numpy.org/devdocs/release/1.20.0-notes.html#deprecations\n",
      "  X_test=np.asarray(X_train).astype(np.int)\n",
      "/tmp/ipykernel_836666/724880042.py:5: DeprecationWarning: `np.int` is a deprecated alias for the builtin `int`. To silence this warning, use `int` by itself. Doing this will not modify any behavior and is safe. When replacing `np.int`, you may wish to use e.g. `np.int64` or `np.int32` to specify the precision. If you wish to review your current use, check the release note link for additional information.\n",
      "Deprecated in NumPy 1.20; for more details and guidance: https://numpy.org/devdocs/release/1.20.0-notes.html#deprecations\n",
      "  y_test=np.asarray(y_train).astype(np.int)\n"
     ]
    }
   ],
   "source": [
    "X_train=np.asarray(X_train).astype(np.int)\n",
    "y_train=np.asarray(y_train).astype(np.int)\n",
    "\n",
    "X_test=np.asarray(X_train).astype(np.int)\n",
    "y_test=np.asarray(y_train).astype(np.int)\n"
   ]
  },
  {
   "cell_type": "code",
   "execution_count": 57,
   "metadata": {},
   "outputs": [],
   "source": [
    "classifier = Sequential()"
   ]
  },
  {
   "cell_type": "code",
   "execution_count": 58,
   "metadata": {},
   "outputs": [
    {
     "name": "stdout",
     "output_type": "stream",
     "text": [
      "Model: \"sequential_4\"\n",
      "_________________________________________________________________\n",
      " Layer (type)                Output Shape              Param #   \n",
      "=================================================================\n",
      " dense_21 (Dense)            (None, 570)               591090    \n",
      "                                                                 \n",
      " dropout_7 (Dropout)         (None, 570)               0         \n",
      "                                                                 \n",
      " dense_22 (Dense)            (None, 570)               325470    \n",
      "                                                                 \n",
      " dense_23 (Dense)            (None, 1)                 571       \n",
      "                                                                 \n",
      "=================================================================\n",
      "Total params: 917,131\n",
      "Trainable params: 917,131\n",
      "Non-trainable params: 0\n",
      "_________________________________________________________________\n"
     ]
    }
   ],
   "source": [
    "#couche entrée\n",
    "classifier.add(Dense(units=570, activation=\"relu\", kernel_initializer=\"uniform\", input_dim=1036))\n",
    "#désactivation d'un neuronne à chaque test\n",
    "classifier.add(Dropout(rate=0.1))\n",
    "#couche cachée\n",
    "classifier.add(Dense(units=570, activation=\"relu\", kernel_initializer=\"uniform\"))\n",
    "#couche de sortie\n",
    "classifier.add(Dense(units=1, activation=\"softmax\", kernel_initializer=\"uniform\"))\n",
    "#compiler le réseau neuronne\n",
    "classifier.compile(optimizer=\"adam\", loss=\"categorical_crossentropy\", metrics=[\"accuracy\"])\n",
    "classifier.summary()"
   ]
  },
  {
   "cell_type": "code",
   "execution_count": 59,
   "metadata": {},
   "outputs": [
    {
     "name": "stdout",
     "output_type": "stream",
     "text": [
      "Epoch 1/100\n"
     ]
    },
    {
     "name": "stderr",
     "output_type": "stream",
     "text": [
      "2023-02-14 11:14:30.741424: W tensorflow/core/framework/cpu_allocator_impl.cc:82] Allocation of 464128000 exceeds 10% of free system memory.\n"
     ]
    },
    {
     "name": "stdout",
     "output_type": "stream",
     "text": [
      "5600/5600 [==============================] - 21s 4ms/step - loss: 0.0000e+00 - accuracy: 0.0799\n",
      "Epoch 2/100\n",
      "5600/5600 [==============================] - 21s 4ms/step - loss: 0.0000e+00 - accuracy: 0.0799\n",
      "Epoch 3/100\n",
      "5600/5600 [==============================] - 22s 4ms/step - loss: 0.0000e+00 - accuracy: 0.0799\n",
      "Epoch 4/100\n",
      "5600/5600 [==============================] - 24s 4ms/step - loss: 0.0000e+00 - accuracy: 0.0799\n",
      "Epoch 5/100\n",
      "5600/5600 [==============================] - 24s 4ms/step - loss: 0.0000e+00 - accuracy: 0.0799\n",
      "Epoch 6/100\n",
      "5600/5600 [==============================] - 21s 4ms/step - loss: 0.0000e+00 - accuracy: 0.0799\n",
      "Epoch 7/100\n",
      "5600/5600 [==============================] - 22s 4ms/step - loss: 0.0000e+00 - accuracy: 0.0799\n",
      "Epoch 8/100\n",
      "5600/5600 [==============================] - 22s 4ms/step - loss: 0.0000e+00 - accuracy: 0.0799\n",
      "Epoch 9/100\n",
      "5600/5600 [==============================] - 22s 4ms/step - loss: 0.0000e+00 - accuracy: 0.0799\n",
      "Epoch 10/100\n",
      "5600/5600 [==============================] - 22s 4ms/step - loss: 0.0000e+00 - accuracy: 0.0799\n",
      "Epoch 11/100\n",
      "5600/5600 [==============================] - 22s 4ms/step - loss: 0.0000e+00 - accuracy: 0.0799\n",
      "Epoch 12/100\n",
      "5600/5600 [==============================] - 22s 4ms/step - loss: 0.0000e+00 - accuracy: 0.0799\n",
      "Epoch 13/100\n",
      "5600/5600 [==============================] - 21s 4ms/step - loss: 0.0000e+00 - accuracy: 0.0799\n",
      "Epoch 14/100\n",
      "5600/5600 [==============================] - 22s 4ms/step - loss: 0.0000e+00 - accuracy: 0.0799\n",
      "Epoch 15/100\n",
      "5600/5600 [==============================] - 22s 4ms/step - loss: 0.0000e+00 - accuracy: 0.0799\n",
      "Epoch 16/100\n",
      "5600/5600 [==============================] - 22s 4ms/step - loss: 0.0000e+00 - accuracy: 0.0799\n",
      "Epoch 17/100\n",
      "5600/5600 [==============================] - 23s 4ms/step - loss: 0.0000e+00 - accuracy: 0.0799\n",
      "Epoch 18/100\n",
      "5600/5600 [==============================] - 21s 4ms/step - loss: 0.0000e+00 - accuracy: 0.0799\n",
      "Epoch 19/100\n",
      "5600/5600 [==============================] - 21s 4ms/step - loss: 0.0000e+00 - accuracy: 0.0799\n",
      "Epoch 20/100\n",
      "5600/5600 [==============================] - 21s 4ms/step - loss: 0.0000e+00 - accuracy: 0.0799\n",
      "Epoch 21/100\n",
      "5600/5600 [==============================] - 21s 4ms/step - loss: 0.0000e+00 - accuracy: 0.0799\n",
      "Epoch 22/100\n",
      "5600/5600 [==============================] - 21s 4ms/step - loss: 0.0000e+00 - accuracy: 0.0799\n",
      "Epoch 23/100\n",
      "5600/5600 [==============================] - 21s 4ms/step - loss: 0.0000e+00 - accuracy: 0.0799\n",
      "Epoch 24/100\n",
      "5600/5600 [==============================] - 21s 4ms/step - loss: 0.0000e+00 - accuracy: 0.0799\n",
      "Epoch 25/100\n",
      "5600/5600 [==============================] - 21s 4ms/step - loss: 0.0000e+00 - accuracy: 0.0799\n",
      "Epoch 26/100\n",
      "5600/5600 [==============================] - 21s 4ms/step - loss: 0.0000e+00 - accuracy: 0.0799\n",
      "Epoch 27/100\n",
      "5600/5600 [==============================] - 21s 4ms/step - loss: 0.0000e+00 - accuracy: 0.0799\n",
      "Epoch 28/100\n",
      "5600/5600 [==============================] - 21s 4ms/step - loss: 0.0000e+00 - accuracy: 0.0799\n",
      "Epoch 29/100\n",
      "5600/5600 [==============================] - 21s 4ms/step - loss: 0.0000e+00 - accuracy: 0.0799\n",
      "Epoch 30/100\n",
      "5600/5600 [==============================] - 21s 4ms/step - loss: 0.0000e+00 - accuracy: 0.0799\n",
      "Epoch 31/100\n",
      "5600/5600 [==============================] - 21s 4ms/step - loss: 0.0000e+00 - accuracy: 0.0799\n",
      "Epoch 32/100\n",
      "5600/5600 [==============================] - 21s 4ms/step - loss: 0.0000e+00 - accuracy: 0.0799\n",
      "Epoch 33/100\n",
      "5600/5600 [==============================] - 21s 4ms/step - loss: 0.0000e+00 - accuracy: 0.0799\n",
      "Epoch 34/100\n",
      "5600/5600 [==============================] - 21s 4ms/step - loss: 0.0000e+00 - accuracy: 0.0799\n",
      "Epoch 35/100\n",
      "5600/5600 [==============================] - 21s 4ms/step - loss: 0.0000e+00 - accuracy: 0.0799\n",
      "Epoch 36/100\n",
      "5600/5600 [==============================] - 21s 4ms/step - loss: 0.0000e+00 - accuracy: 0.0799\n",
      "Epoch 37/100\n",
      "5600/5600 [==============================] - 21s 4ms/step - loss: 0.0000e+00 - accuracy: 0.0799\n",
      "Epoch 38/100\n",
      "5600/5600 [==============================] - 21s 4ms/step - loss: 0.0000e+00 - accuracy: 0.0799\n",
      "Epoch 39/100\n",
      "5600/5600 [==============================] - 21s 4ms/step - loss: 0.0000e+00 - accuracy: 0.0799\n",
      "Epoch 40/100\n",
      "5600/5600 [==============================] - 21s 4ms/step - loss: 0.0000e+00 - accuracy: 0.0799\n",
      "Epoch 41/100\n",
      "5600/5600 [==============================] - 21s 4ms/step - loss: 0.0000e+00 - accuracy: 0.0799\n",
      "Epoch 42/100\n",
      "5600/5600 [==============================] - 22s 4ms/step - loss: 0.0000e+00 - accuracy: 0.0799\n",
      "Epoch 43/100\n",
      "5600/5600 [==============================] - 24s 4ms/step - loss: 0.0000e+00 - accuracy: 0.0799\n",
      "Epoch 44/100\n",
      "5600/5600 [==============================] - 23s 4ms/step - loss: 0.0000e+00 - accuracy: 0.0799\n",
      "Epoch 45/100\n",
      "5600/5600 [==============================] - 24s 4ms/step - loss: 0.0000e+00 - accuracy: 0.0799\n",
      "Epoch 46/100\n",
      "5600/5600 [==============================] - 24s 4ms/step - loss: 0.0000e+00 - accuracy: 0.0799\n",
      "Epoch 47/100\n",
      "5600/5600 [==============================] - 24s 4ms/step - loss: 0.0000e+00 - accuracy: 0.0799\n",
      "Epoch 48/100\n",
      "5600/5600 [==============================] - 25s 4ms/step - loss: 0.0000e+00 - accuracy: 0.0799\n",
      "Epoch 49/100\n",
      "5600/5600 [==============================] - 25s 4ms/step - loss: 0.0000e+00 - accuracy: 0.0799\n",
      "Epoch 50/100\n",
      "5600/5600 [==============================] - 24s 4ms/step - loss: 0.0000e+00 - accuracy: 0.0799\n",
      "Epoch 51/100\n",
      "5600/5600 [==============================] - 23s 4ms/step - loss: 0.0000e+00 - accuracy: 0.0799\n",
      "Epoch 52/100\n",
      "5600/5600 [==============================] - 24s 4ms/step - loss: 0.0000e+00 - accuracy: 0.0799\n",
      "Epoch 53/100\n",
      "5600/5600 [==============================] - 23s 4ms/step - loss: 0.0000e+00 - accuracy: 0.0799\n",
      "Epoch 54/100\n",
      "5600/5600 [==============================] - 24s 4ms/step - loss: 0.0000e+00 - accuracy: 0.0799\n",
      "Epoch 55/100\n",
      "5600/5600 [==============================] - 24s 4ms/step - loss: 0.0000e+00 - accuracy: 0.0799\n",
      "Epoch 56/100\n",
      "5600/5600 [==============================] - 24s 4ms/step - loss: 0.0000e+00 - accuracy: 0.0799\n",
      "Epoch 57/100\n",
      "5600/5600 [==============================] - 23s 4ms/step - loss: 0.0000e+00 - accuracy: 0.0799\n",
      "Epoch 58/100\n",
      "5600/5600 [==============================] - 23s 4ms/step - loss: 0.0000e+00 - accuracy: 0.0799\n",
      "Epoch 59/100\n",
      "5600/5600 [==============================] - 22s 4ms/step - loss: 0.0000e+00 - accuracy: 0.0799\n",
      "Epoch 60/100\n",
      "5600/5600 [==============================] - 21s 4ms/step - loss: 0.0000e+00 - accuracy: 0.0799\n",
      "Epoch 61/100\n",
      "5600/5600 [==============================] - 25s 4ms/step - loss: 0.0000e+00 - accuracy: 0.0799\n",
      "Epoch 62/100\n",
      "5600/5600 [==============================] - 25s 4ms/step - loss: 0.0000e+00 - accuracy: 0.0799\n",
      "Epoch 63/100\n",
      "5600/5600 [==============================] - 22s 4ms/step - loss: 0.0000e+00 - accuracy: 0.0799\n",
      "Epoch 64/100\n",
      "5600/5600 [==============================] - 22s 4ms/step - loss: 0.0000e+00 - accuracy: 0.0799\n",
      "Epoch 65/100\n",
      "5600/5600 [==============================] - 22s 4ms/step - loss: 0.0000e+00 - accuracy: 0.0799\n",
      "Epoch 66/100\n",
      "5600/5600 [==============================] - 22s 4ms/step - loss: 0.0000e+00 - accuracy: 0.0799\n",
      "Epoch 67/100\n",
      "5600/5600 [==============================] - 22s 4ms/step - loss: 0.0000e+00 - accuracy: 0.0799\n",
      "Epoch 68/100\n",
      "5600/5600 [==============================] - 22s 4ms/step - loss: 0.0000e+00 - accuracy: 0.0799\n",
      "Epoch 69/100\n",
      "5600/5600 [==============================] - 22s 4ms/step - loss: 0.0000e+00 - accuracy: 0.0799\n",
      "Epoch 70/100\n",
      "5600/5600 [==============================] - 22s 4ms/step - loss: 0.0000e+00 - accuracy: 0.0799\n",
      "Epoch 71/100\n",
      "5600/5600 [==============================] - 22s 4ms/step - loss: 0.0000e+00 - accuracy: 0.0799\n",
      "Epoch 72/100\n",
      "5600/5600 [==============================] - 22s 4ms/step - loss: 0.0000e+00 - accuracy: 0.0799\n",
      "Epoch 73/100\n",
      "5600/5600 [==============================] - 22s 4ms/step - loss: 0.0000e+00 - accuracy: 0.0799\n",
      "Epoch 74/100\n",
      "5600/5600 [==============================] - 22s 4ms/step - loss: 0.0000e+00 - accuracy: 0.0799\n",
      "Epoch 75/100\n",
      "5600/5600 [==============================] - 22s 4ms/step - loss: 0.0000e+00 - accuracy: 0.0799\n",
      "Epoch 76/100\n",
      "5600/5600 [==============================] - 22s 4ms/step - loss: 0.0000e+00 - accuracy: 0.0799\n",
      "Epoch 77/100\n",
      "5600/5600 [==============================] - 22s 4ms/step - loss: 0.0000e+00 - accuracy: 0.0799\n",
      "Epoch 78/100\n",
      "5600/5600 [==============================] - 23s 4ms/step - loss: 0.0000e+00 - accuracy: 0.0799\n",
      "Epoch 79/100\n",
      "5600/5600 [==============================] - 22s 4ms/step - loss: 0.0000e+00 - accuracy: 0.0799\n",
      "Epoch 80/100\n",
      "5600/5600 [==============================] - 22s 4ms/step - loss: 0.0000e+00 - accuracy: 0.0799\n",
      "Epoch 81/100\n",
      "5600/5600 [==============================] - 22s 4ms/step - loss: 0.0000e+00 - accuracy: 0.0799\n",
      "Epoch 82/100\n",
      "5600/5600 [==============================] - 22s 4ms/step - loss: 0.0000e+00 - accuracy: 0.0799\n",
      "Epoch 83/100\n",
      "5600/5600 [==============================] - 22s 4ms/step - loss: 0.0000e+00 - accuracy: 0.0799\n",
      "Epoch 84/100\n",
      "5600/5600 [==============================] - 22s 4ms/step - loss: 0.0000e+00 - accuracy: 0.0799\n",
      "Epoch 85/100\n",
      "5600/5600 [==============================] - 22s 4ms/step - loss: 0.0000e+00 - accuracy: 0.0799\n",
      "Epoch 86/100\n",
      "5600/5600 [==============================] - 22s 4ms/step - loss: 0.0000e+00 - accuracy: 0.0799\n",
      "Epoch 87/100\n",
      "5600/5600 [==============================] - 22s 4ms/step - loss: 0.0000e+00 - accuracy: 0.0799\n",
      "Epoch 88/100\n",
      "5600/5600 [==============================] - 22s 4ms/step - loss: 0.0000e+00 - accuracy: 0.0799\n",
      "Epoch 89/100\n",
      "5600/5600 [==============================] - 23s 4ms/step - loss: 0.0000e+00 - accuracy: 0.0799\n",
      "Epoch 90/100\n",
      "5600/5600 [==============================] - 24s 4ms/step - loss: 0.0000e+00 - accuracy: 0.0799\n",
      "Epoch 91/100\n",
      "5600/5600 [==============================] - 24s 4ms/step - loss: 0.0000e+00 - accuracy: 0.0799\n",
      "Epoch 92/100\n",
      "5600/5600 [==============================] - 22s 4ms/step - loss: 0.0000e+00 - accuracy: 0.0799\n",
      "Epoch 93/100\n",
      "5600/5600 [==============================] - 24s 4ms/step - loss: 0.0000e+00 - accuracy: 0.0799\n",
      "Epoch 94/100\n",
      "5600/5600 [==============================] - 22s 4ms/step - loss: 0.0000e+00 - accuracy: 0.0799\n",
      "Epoch 95/100\n",
      "5600/5600 [==============================] - 21s 4ms/step - loss: 0.0000e+00 - accuracy: 0.0799\n",
      "Epoch 96/100\n",
      "5600/5600 [==============================] - 21s 4ms/step - loss: 0.0000e+00 - accuracy: 0.0799\n",
      "Epoch 97/100\n",
      "5600/5600 [==============================] - 21s 4ms/step - loss: 0.0000e+00 - accuracy: 0.0799\n",
      "Epoch 98/100\n",
      "5600/5600 [==============================] - 21s 4ms/step - loss: 0.0000e+00 - accuracy: 0.0799\n",
      "Epoch 99/100\n",
      "5600/5600 [==============================] - 21s 4ms/step - loss: 0.0000e+00 - accuracy: 0.0799\n",
      "Epoch 100/100\n",
      "5600/5600 [==============================] - 21s 4ms/step - loss: 0.0000e+00 - accuracy: 0.0799\n"
     ]
    },
    {
     "data": {
      "text/plain": [
       "<keras.callbacks.History at 0x7f7d0b537940>"
      ]
     },
     "execution_count": 59,
     "metadata": {},
     "output_type": "execute_result"
    },
    {
     "ename": "",
     "evalue": "",
     "output_type": "error",
     "traceback": [
      "Le Kernel s’est bloqué lors de l’exécution du code dans la cellule active ou une cellule précédente. Veuillez vérifier le code dans la ou les cellules pour identifier une cause possible de l’échec. Cliquez <a href='https://aka.ms/vscodeJupyterKernelCrash'>ici</a> pour plus d’informations. Pour plus d’informations, consultez Jupyter <a href='command:jupyter.viewOutput'>log</a>."
     ]
    }
   ],
   "source": [
    "classifier.fit(X_train, y_train, batch_size=10, epochs=100)\n"
   ]
  },
  {
   "cell_type": "code",
   "execution_count": null,
   "metadata": {},
   "outputs": [
    {
     "name": "stderr",
     "output_type": "stream",
     "text": [
      "2023-02-14 11:10:33.712486: W tensorflow/core/framework/cpu_allocator_impl.cc:82] Allocation of 730880000 exceeds 10% of free system memory.\n"
     ]
    },
    {
     "name": "stdout",
     "output_type": "stream",
     "text": [
      "2500/2500 [==============================] - 5s 2ms/step - loss: 0.0677 - accuracy: 0.9651\n",
      "Test loss: 0.06767819821834564\n",
      "Test accuracy: 0.965149998664856\n"
     ]
    }
   ],
   "source": [
    "score = classifier.evaluate(X_test, y_test)\n",
    "print('Test loss:', score[0])\n",
    "print('Test accuracy:', score[1])"
   ]
  },
  {
   "cell_type": "code",
   "execution_count": null,
   "metadata": {},
   "outputs": [
    {
     "ename": "",
     "evalue": "",
     "output_type": "error",
     "traceback": [
      "\u001b[1;31mCanceled future for execute_request message before replies were done"
     ]
    },
    {
     "ename": "",
     "evalue": "",
     "output_type": "error",
     "traceback": [
      "Le Kernel s’est bloqué lors de l’exécution du code dans la cellule active ou une cellule précédente. Veuillez vérifier le code dans la ou les cellules pour identifier une cause possible de l’échec. Cliquez <a href='https://aka.ms/vscodeJupyterKernelCrash'>ici</a> pour plus d’informations. Pour plus d’informations, consultez Jupyter <a href='command:jupyter.viewOutput'>log</a>."
     ]
    }
   ],
   "source": [
    "import seaborn as sns\n",
    "from sklearn.metrics import confusion_matrix\n",
    "from sklearn.metrics import multilabel_confusion_matrix\n",
    "\n",
    "y_pred=classifier.predict(X_test, batch_size=128, verbose=0) \n",
    "y_pred=np.argmax(y_pred, axis=1)\n",
    "y_test=np.argmax(y_test, axis=1)\n",
    "cm = confusion_matrix(y_test, y_pred)\n",
    "print(cm)"
   ]
  },
  {
   "cell_type": "code",
   "execution_count": null,
   "metadata": {},
   "outputs": [
    {
     "data": {
      "text/plain": [
       "<AxesSubplot: >"
      ]
     },
     "execution_count": 135,
     "metadata": {},
     "output_type": "execute_result"
    },
    {
     "data": {
      "image/png": "[encoded data removed]",
      "text/plain": [
       "<Figure size 1200x800 with 2 Axes>"
      ]
     },
     "metadata": {},
     "output_type": "display_data"
    }
   ],
   "source": [
    "plt.figure(figsize=(12,8))\n",
    "sns.heatmap(confusion_matrix(y_test, y_pred),annot=True)"
   ]
  },
  {
   "cell_type": "code",
   "execution_count": null,
   "metadata": {},
   "outputs": [
    {
     "name": "stdout",
     "output_type": "stream",
     "text": [
      "              precision    recall  f1-score   support\n",
      "\n",
      "           0       1.00      1.00      1.00     40000\n",
      "\n",
      "    accuracy                           1.00     40000\n",
      "   macro avg       1.00      1.00      1.00     40000\n",
      "weighted avg       1.00      1.00      1.00     40000\n",
      "\n"
     ]
    }
   ],
   "source": [
    "from sklearn.metrics import classification_report\n",
    "print(classification_report(y_test, y_pred))"
   ]
  }
 ],
 "metadata": {
  "kernelspec": {
   "display_name": "Python 3.9.2 64-bit",
   "language": "python",
   "name": "python3"
  },
  "language_info": {
   "codemirror_mode": {
    "name": "ipython",
    "version": 3
   },
   "file_extension": ".py",
   "mimetype": "text/x-python",
   "name": "python",
   "nbconvert_exporter": "python",
   "pygments_lexer": "ipython3",
   "version": "3.9.2"
  },
  "orig_nbformat": 4,
  "vscode": {
   "interpreter": {
    "hash": "916dbcbb3f70747c44a77c7bcd40155683ae19c65e1c03b4aa3499c5328201f1"
   }
  }
 },
 "nbformat": 4,
 "nbformat_minor": 2
}
